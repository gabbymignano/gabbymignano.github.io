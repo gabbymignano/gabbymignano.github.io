{
  "nbformat": 4,
  "nbformat_minor": 0,
  "metadata": {
    "colab": {
      "name": "Lab 2 Work.ipynb",
      "provenance": [],
      "mount_file_id": "1W9RYrylSely103zre2Aq-ntXhuciNNPi",
      "authorship_tag": "ABX9TyP1cQVJNnOGlm603b7lOgsQ",
      "include_colab_link": true
    },
    "kernelspec": {
      "name": "python3",
      "display_name": "Python 3"
    }
  },
  "cells": [
    {
      "cell_type": "markdown",
      "metadata": {
        "id": "view-in-github",
        "colab_type": "text"
      },
      "source": [
        "<a href=\"https://colab.research.google.com/github/gabbymignano/gabbymignano.github.io/blob/master/Lab_2_Work.ipynb\" target=\"_parent\"><img src=\"https://colab.research.google.com/assets/colab-badge.svg\" alt=\"Open In Colab\"/></a>"
      ]
    },
    {
      "cell_type": "markdown",
      "metadata": {
        "id": "Wqd8xSr1yE9w"
      },
      "source": [
        "###Q1: interval centered around mean w 8 st dev guaranteed to include at least what % of data?"
      ]
    },
    {
      "cell_type": "code",
      "metadata": {
        "colab": {
          "base_uri": "https://localhost:8080/"
        },
        "id": "Xz7FO0RqyN-3",
        "outputId": "2e860018-4b36-479e-f2cf-6de3f2a0add1"
      },
      "source": [
        "# Chebyschev's Theorem:\n",
        "t = 4\n",
        "(1-1/(t*t))*100"
      ],
      "execution_count": 54,
      "outputs": [
        {
          "output_type": "execute_result",
          "data": {
            "text/plain": [
              "93.75"
            ]
          },
          "metadata": {
            "tags": []
          },
          "execution_count": 54
        }
      ]
    },
    {
      "cell_type": "markdown",
      "metadata": {
        "id": "eCsi5T61yY1D"
      },
      "source": [
        "###Q2: False; scaling data by quantiles does not require zscore computation first"
      ]
    },
    {
      "cell_type": "markdown",
      "metadata": {
        "id": "Bl5FKsNmyerd"
      },
      "source": [
        "###Q3: mtcars dataset, zscore of 18.1 mpg car is?"
      ]
    },
    {
      "cell_type": "code",
      "metadata": {
        "id": "G-iMaC-oyOsf"
      },
      "source": [
        "import numpy as np\n",
        "import pandas as pd"
      ],
      "execution_count": 45,
      "outputs": []
    },
    {
      "cell_type": "code",
      "metadata": {
        "colab": {
          "base_uri": "https://localhost:8080/"
        },
        "id": "a6DWIhW0ynCp",
        "outputId": "42c53b9c-d1f2-4f9a-de4c-9a87c0c4ed46"
      },
      "source": [
        "data = pd.read_csv('drive/MyDrive/Data Sci/mtcars.csv')\n",
        "data.mpg.values[5]"
      ],
      "execution_count": 46,
      "outputs": [
        {
          "output_type": "execute_result",
          "data": {
            "text/plain": [
              "18.1"
            ]
          },
          "metadata": {
            "tags": []
          },
          "execution_count": 46
        }
      ]
    },
    {
      "cell_type": "code",
      "metadata": {
        "id": "joL6a8qP0TmE"
      },
      "source": [
        "data"
      ],
      "execution_count": null,
      "outputs": []
    },
    {
      "cell_type": "code",
      "metadata": {
        "colab": {
          "base_uri": "https://localhost:8080/"
        },
        "id": "ckitwReJypwz",
        "outputId": "6d0c46a1-20b7-4bf8-81fb-a5d79800d8cb"
      },
      "source": [
        "mpg = data.mpg.values\n",
        "zs = (mpg-np.mean(mpg))/np.std(mpg)\n",
        "zs[5]"
      ],
      "execution_count": 48,
      "outputs": [
        {
          "output_type": "execute_result",
          "data": {
            "text/plain": [
              "-0.3355723336253064"
            ]
          },
          "metadata": {
            "tags": []
          },
          "execution_count": 48
        }
      ]
    },
    {
      "cell_type": "code",
      "metadata": {
        "id": "67yldb0p1uJO"
      },
      "source": [
        "from sklearn import linear_model\n",
        "from sklearn.preprocessing import StandardScaler, QuantileTransformer\n",
        "scaler = StandardScaler()\n",
        "scaler.fit(data[['mpg']])\n",
        "scaler.fit_transform(data[['mpg']])"
      ],
      "execution_count": null,
      "outputs": []
    },
    {
      "cell_type": "markdown",
      "metadata": {
        "id": "y0M3VqhYz3Se"
      },
      "source": [
        "###Q4: in the mtcars dataset, percentile of car that weights 3250 lbs?"
      ]
    },
    {
      "cell_type": "code",
      "metadata": {
        "colab": {
          "base_uri": "https://localhost:8080/"
        },
        "id": "jY0ptKOS2F7v",
        "outputId": "9f211561-d138-47d7-fbb0-13dc4abc13c2"
      },
      "source": [
        "qtn = QuantileTransformer(n_quantiles=100)\n",
        "qtn.fit_transform(data[['wt']])*100"
      ],
      "execution_count": 50,
      "outputs": [
        {
          "output_type": "stream",
          "text": [
            "/usr/local/lib/python3.6/dist-packages/sklearn/preprocessing/_data.py:2357: UserWarning: n_quantiles (100) is greater than the total number of samples (32). n_quantiles is set to n_samples.\n",
            "  % (self.n_quantiles, n_samples))\n"
          ],
          "name": "stderr"
        },
        {
          "output_type": "execute_result",
          "data": {
            "text/plain": [
              "array([[ 25.80645161],\n",
              "       [ 35.48387097],\n",
              "       [ 19.35483871],\n",
              "       [ 48.38709677],\n",
              "       [ 58.06451613],\n",
              "       [ 64.51612903],\n",
              "       [ 72.58064516],\n",
              "       [ 45.16129032],\n",
              "       [ 38.70967742],\n",
              "       [ 58.06451613],\n",
              "       [ 58.06451613],\n",
              "       [ 90.32258065],\n",
              "       [ 77.41935484],\n",
              "       [ 80.64516129],\n",
              "       [ 93.5483871 ],\n",
              "       [100.        ],\n",
              "       [ 96.77419355],\n",
              "       [ 16.12903226],\n",
              "       [  3.22580645],\n",
              "       [  6.4516129 ],\n",
              "       [ 22.58064516],\n",
              "       [ 67.74193548],\n",
              "       [ 51.61290323],\n",
              "       [ 83.87096774],\n",
              "       [ 87.09677419],\n",
              "       [  9.67741935],\n",
              "       [ 12.90322581],\n",
              "       [  0.        ],\n",
              "       [ 41.93548387],\n",
              "       [ 29.03225806],\n",
              "       [ 72.58064516],\n",
              "       [ 32.25806452]])"
            ]
          },
          "metadata": {
            "tags": []
          },
          "execution_count": 50
        }
      ]
    },
    {
      "cell_type": "code",
      "metadata": {
        "colab": {
          "base_uri": "https://localhost:8080/"
        },
        "id": "IPO0lkQxy8N1",
        "outputId": "48dae255-8956-4cb6-9bf1-767087a5d60b"
      },
      "source": [
        "wt = data.wt.values\n",
        "np.percentile(wt,68)"
      ],
      "execution_count": 52,
      "outputs": [
        {
          "output_type": "execute_result",
          "data": {
            "text/plain": [
              "3.5240000000000005"
            ]
          },
          "metadata": {
            "tags": []
          },
          "execution_count": 52
        }
      ]
    },
    {
      "cell_type": "markdown",
      "metadata": {
        "id": "pPcHzqtz1Syd"
      },
      "source": [
        "###Q5: a finite sum of squared quanitites that depends on parameters (weights) always has minimum value? <font color = 'green'> True\n"
      ]
    },
    {
      "cell_type": "markdown",
      "metadata": {
        "id": "4F2CbcYa2_bI"
      },
      "source": [
        "###Q6: mtcars, predict mpg of car w wt = 2800 lbs"
      ]
    },
    {
      "cell_type": "code",
      "metadata": {
        "colab": {
          "base_uri": "https://localhost:8080/"
        },
        "id": "4E9ilDUv0J-0",
        "outputId": "ad30f02e-9b82-4082-bccc-e507a8babde1"
      },
      "source": [
        "v = data[['wt']].values\n",
        "v[np.argmin(qtn.fit_transform(data[['wt']])*100)]"
      ],
      "execution_count": null,
      "outputs": [
        {
          "output_type": "stream",
          "text": [
            "/usr/local/lib/python3.6/dist-packages/sklearn/preprocessing/_data.py:2357: UserWarning: n_quantiles (100) is greater than the total number of samples (32). n_quantiles is set to n_samples.\n",
            "  % (self.n_quantiles, n_samples))\n"
          ],
          "name": "stderr"
        },
        {
          "output_type": "execute_result",
          "data": {
            "text/plain": [
              "array([1.513])"
            ]
          },
          "metadata": {
            "tags": []
          },
          "execution_count": 54
        }
      ]
    },
    {
      "cell_type": "code",
      "metadata": {
        "id": "FFEkvRcK3Ev5"
      },
      "source": [
        "x = data[['wt']]\n",
        "y = data[['mpg']]\n",
        "lm = linear_model.LinearRegression()\n",
        "model = lm.fit(x,y)"
      ],
      "execution_count": null,
      "outputs": []
    },
    {
      "cell_type": "code",
      "metadata": {
        "colab": {
          "base_uri": "https://localhost:8080/"
        },
        "id": "LGeVhI4s3K9q",
        "outputId": "be4ce5fa-d370-4164-bd69-ea42e6964e71"
      },
      "source": [
        "lm.predict([[2.8]])"
      ],
      "execution_count": null,
      "outputs": [
        {
          "output_type": "execute_result",
          "data": {
            "text/plain": [
              "array([[22.32060576]])"
            ]
          },
          "metadata": {
            "tags": []
          },
          "execution_count": 58
        }
      ]
    },
    {
      "cell_type": "markdown",
      "metadata": {
        "id": "5IFBmjQohdQL"
      },
      "source": [
        "###Q7: change gradient descent code to calculate minimum sum of squared residuals\n",
        "compute the sum of the square residuals for the learned optimal values of slope (m) and intercept (n) and not for the random values we use to initialize those variables in the gradient descent algorithm"
      ]
    },
    {
      "cell_type": "code",
      "metadata": {
        "id": "MRU4kCZwiUJq"
      },
      "source": [
        "%matplotlib inline\n",
        "%config InlineBackend.figure_format = 'retina'\n",
        "import matplotlib as mpl\n",
        "mpl.rcParams['figure.dpi'] = 120\n",
        "from IPython.display import HTML\n",
        "import numpy as np\n",
        "import pandas as pd\n",
        "import matplotlib.pyplot as plt"
      ],
      "execution_count": 25,
      "outputs": []
    },
    {
      "cell_type": "code",
      "metadata": {
        "id": "EIZba0q2iUuG"
      },
      "source": [
        "df = pd.read_csv('drive/MyDrive/Data Sci/mtcars.csv')\n",
        "X = df[['wt']]\n",
        "y = df[['mpg']]"
      ],
      "execution_count": 39,
      "outputs": []
    },
    {
      "cell_type": "code",
      "metadata": {
        "colab": {
          "base_uri": "https://localhost:8080/"
        },
        "id": "LrUCBJIHicPQ",
        "outputId": "46f854e9-0d39-4330-e283-0439a38fa643"
      },
      "source": [
        "N = len(X)\n",
        "N"
      ],
      "execution_count": 35,
      "outputs": [
        {
          "output_type": "execute_result",
          "data": {
            "text/plain": [
              "32"
            ]
          },
          "metadata": {
            "tags": []
          },
          "execution_count": 35
        }
      ]
    },
    {
      "cell_type": "code",
      "metadata": {
        "id": "rUD5MuHTicuH"
      },
      "source": [
        "data = np.concatenate((X.values,y.values),axis=1)"
      ],
      "execution_count": 36,
      "outputs": []
    },
    {
      "cell_type": "code",
      "metadata": {
        "id": "Q5u8ech8hmN-"
      },
      "source": [
        "#hyperparamters established before the learning process begins\n",
        "learning_rate = 0.01\n",
        "initial_b = 0\n",
        "initial_m = 0\n",
        "num_iterations = 10000"
      ],
      "execution_count": 40,
      "outputs": []
    },
    {
      "cell_type": "code",
      "metadata": {
        "id": "lBDO9nF_iMsi"
      },
      "source": [
        "for i in range(0,32):\n",
        "  print(i)"
      ],
      "execution_count": null,
      "outputs": []
    },
    {
      "cell_type": "code",
      "metadata": {
        "id": "UvXJuYQwrF-v"
      },
      "source": [
        "# the average of the squared residuals.\n",
        "def compute_cost(b, m, data):\n",
        "    total_cost = 0\n",
        "    \n",
        "    # number of datapoints in training data\n",
        "    N = float(len(data))\n",
        "    \n",
        "    # Compute sum of squared errors\n",
        "    for i in range(0, len(data)):\n",
        "        x = data[i, 0]\n",
        "        y = data[i, 1]\n",
        "        total_cost += (y - (m * x + b)) ** 2\n",
        "        \n",
        "    # Return sum of squared error\n",
        "    return total_cost"
      ],
      "execution_count": 31,
      "outputs": []
    },
    {
      "cell_type": "code",
      "metadata": {
        "id": "ZpWKH_R-razy"
      },
      "source": [
        "def step_gradient(b_current, m_current, data, alpha):\n",
        "    \n",
        "    m_gradient = 0\n",
        "    b_gradient = 0\n",
        "    N = float(len(data))\n",
        "\n",
        "    # Calculate Gradient\n",
        "    for i in range(0, len(data)):\n",
        "        x = data[i, 0]\n",
        "        y = data[i, 1]\n",
        "        m_gradient += - (2/N) * x * (y - (m_current * x + b_current))\n",
        "        b_gradient += - (2/N) * (y - (m_current * x + b_current))\n",
        "    \n",
        "    # Update current m and b\n",
        "    m_updated = m_current - alpha * m_gradient\n",
        "    b_updated = b_current - alpha * b_gradient\n",
        "\n",
        "    #Return updated parameters\n",
        "    return b_updated, m_updated\n",
        "\n",
        "def gradient_descent(data, starting_b, starting_m, learning_rate, num_iterations):\n",
        "\n",
        "    # initial values\n",
        "    b = starting_b\n",
        "    m = starting_m\n",
        "    \n",
        "    # to store the cost after each iteration\n",
        "    cost_graph = []\n",
        "    \n",
        "    # to store the value of b -> bias unit, m-> slope of line after each iteration (pred = m*x + b)\n",
        "    b_progress = []\n",
        "    m_progress = []\n",
        "    \n",
        "    # For every iteration, optimize b, m and compute its cost\n",
        "    for i in range(num_iterations):\n",
        "        cost_graph.append(compute_cost(b, m, data))\n",
        "        b, m = step_gradient(b, m, data, learning_rate)\n",
        "        b_progress.append(b)\n",
        "        m_progress.append(m)\n",
        "        \n",
        "    return [b, m, cost_graph,b_progress,m_progress]"
      ],
      "execution_count": 41,
      "outputs": []
    },
    {
      "cell_type": "code",
      "metadata": {
        "colab": {
          "base_uri": "https://localhost:8080/"
        },
        "id": "K5xY3lxLrnH7",
        "outputId": "55f4cc45-b247-4de6-d589-5c31563e2595"
      },
      "source": [
        "b, m, cost_graph,b_progress,m_progress = gradient_descent(data, initial_b, initial_m, learning_rate, num_iterations)\n",
        "\n",
        "#Print optimized parameters\n",
        "print ('Optimized b:', b)\n",
        "print ('Optimized m:', m)\n",
        "\n",
        "#Print error with optimized parameters\n",
        "print ('Minimized cost:', compute_cost(b, m, data))"
      ],
      "execution_count": 42,
      "outputs": [
        {
          "output_type": "stream",
          "text": [
            "Optimized b: 37.285117303091454\n",
            "Optimized m: -5.344469026915932\n",
            "Minimized cost: 278.3219375435501\n"
          ],
          "name": "stdout"
        }
      ]
    },
    {
      "cell_type": "markdown",
      "metadata": {
        "id": "HDVLYXAXsQw0"
      },
      "source": [
        "278.321937"
      ]
    },
    {
      "cell_type": "markdown",
      "metadata": {
        "id": "V4_rT0ek46gW"
      },
      "source": [
        "###Q9: from line of regression w mtcars data, the meaning of the intercept is? <font color=green> Not interpretable- having an X = 0 doesn't make sense in context of data\n"
      ]
    },
    {
      "cell_type": "markdown",
      "metadata": {
        "id": "xLtPrdJ2h_S6"
      },
      "source": [
        "*From notes:*\n",
        "* Do we need complicated algorithm from the intercept?\n",
        "  * No, the regression line (given one input, one output) passes through the center of mass; "
      ]
    },
    {
      "cell_type": "code",
      "metadata": {
        "id": "HMusPvlT5ITr"
      },
      "source": [
        ""
      ],
      "execution_count": null,
      "outputs": []
    },
    {
      "cell_type": "markdown",
      "metadata": {
        "id": "_CZ6z8UWpbsM"
      },
      "source": [
        "###Q10: Slope of regression line always remains the same if we scale the data by zscores? <font color= 'green'> False"
      ]
    }
  ]
}